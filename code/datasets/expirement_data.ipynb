{
 "cells": [
  {
   "cell_type": "code",
   "execution_count": 4,
   "id": "e527923e",
   "metadata": {},
   "outputs": [],
   "source": [
    "import numpy as numpy\n",
    "import pandas as pd\n",
    "import os\n",
    "from sklearn.preprocessing import OneHotEncoder, StandardScaler"
   ]
  },
  {
   "cell_type": "code",
   "execution_count": 7,
   "id": "b916298b",
   "metadata": {},
   "outputs": [
    {
     "name": "stdout",
     "output_type": "stream",
     "text": [
      "(303, 14) = 4242\n",
      "    age  sex   cp  trestbps   chol  fbs  restecg  thalach  exang  oldpeak  \\\n",
      "0  63.0  1.0  1.0     145.0  233.0  1.0      2.0    150.0    0.0      2.3   \n",
      "\n",
      "   slope   ca  thal  target  \n",
      "0    3.0  0.0   6.0       0  \n"
     ]
    }
   ],
   "source": [
    "url = \"https://archive.ics.uci.edu/ml/machine-learning-databases/heart-disease/processed.cleveland.data\"\n",
    "columns = ['age', 'sex', 'cp', 'trestbps', 'chol', 'fbs', 'restecg', 'thalach', 'exang', 'oldpeak', 'slope', 'ca', 'thal', 'target']\n",
    "data = pd.read_csv(url, names=columns, na_values=\"?\")\n",
    "\n",
    "print(f\"{data.shape} = {data.size}\")\n",
    "print(data.head(1))"
   ]
  },
  {
   "cell_type": "code",
   "execution_count": 8,
   "id": "fcd36b73",
   "metadata": {},
   "outputs": [],
   "source": [
    "def save_data(data:pd.DataFrame, filename:str=\"cleveland.csv\"):\n",
    "    path = \"../../data/raw/\"+filename\n",
    "    if not os.path.exists(path):\n",
    "        data.to_csv(path, index=False)"
   ]
  },
  {
   "cell_type": "code",
   "execution_count": null,
   "id": "5a97e85c",
   "metadata": {},
   "outputs": [],
   "source": [
    "save_data(data)\n",
    "\n"
   ]
  },
  {
   "cell_type": "code",
   "execution_count": null,
   "id": "d4abb988",
   "metadata": {},
   "outputs": [
    {
     "data": {
      "text/plain": [
       "'Columns:\\n    age - feature numeric\\n    sex - feature categorical (0-female, 1-male)\\n    cp - feature categorical (1-typical angina, 2-atypical angina, 3-nin-anginal pain, 4-asymptomatic)\\n    trestbps - feature numeric\\n    chol - feature numeric\\n    fbs - feature categorical (1- >=120mg/dl, 0- <120mg/dl)\\n    restecg - feature categorical (0-normal, 1-wave abnormability)\\n    thalach - feature numeric\\n    exang - feature categorical (1-yes, 0-no)\\n    oldpeak - feature numeric\\n    slope - feature categorical (1-upsloping, 2-flat, 3-downsloping)\\n    ca - feature numeric\\n    thal - feature categorical (3-normal, 6-fixed defect, 7-reversable defect)\\n    num - target numeric\\n'"
      ]
     },
     "execution_count": 32,
     "metadata": {},
     "output_type": "execute_result"
    }
   ],
   "source": [
    "'''\n",
    "Columns:\n",
    "    age - feature numeric\n",
    "    sex - feature categorical (0-female, 1-male)\n",
    "    cp - feature categorical (1-typical angina, 2-atypical angina, 3-nin-anginal pain, 4-asymptomatic)\n",
    "    trestbps - feature numeric\n",
    "    chol - feature numeric\n",
    "    fbs - feature categorical (1- >=120mg/dl, 0- <120mg/dl)\n",
    "    restecg - feature categorical (0-normal, 1-wave abnormability, 2-ventricular hypertrophy)\n",
    "    thalach - feature numeric\n",
    "    exang - feature categorical (1-yes, 0-no)\n",
    "    oldpeak - feature numeric\n",
    "    slope - feature categorical (1-upsloping, 2-flat, 3-downsloping)\n",
    "    ca - feature numeric\n",
    "    thal - feature categorical (3-normal, 6-fixed defect, 7-reversable defect)\n",
    "    target - target numeric\n",
    "'''"
   ]
  },
  {
   "cell_type": "code",
   "execution_count": null,
   "id": "9bfc7cc9",
   "metadata": {},
   "outputs": [
    {
     "name": "stdout",
     "output_type": "stream",
     "text": [
      "Index(['age', 'sex', 'cp', 'trestbps', 'chol', 'fbs', 'restecg', 'thalach',\n",
      "       'exang', 'oldpeak', 'slope', 'ca', 'thal', 'target'],\n",
      "      dtype='object')\n",
      "Index(['age', 'sex', 'trestbps', 'chol', 'fbs', 'thalach', 'exang', 'oldpeak',\n",
      "       'ca', 'target', 'cp_1.0', 'cp_2.0', 'cp_3.0', 'cp_4.0', 'restecg_0.0',\n",
      "       'restecg_1.0', 'restecg_2.0', 'slope_1.0', 'slope_2.0', 'slope_3.0',\n",
      "       'thal_3.0', 'thal_6.0', 'thal_7.0', 'thal_nan'],\n",
      "      dtype='object')\n"
     ]
    }
   ],
   "source": [
    "ohe_columns = ['cp', 'restecg', 'slope', 'thal']\n",
    "numeric_columns = ['age', 'trestbps', 'chol', 'thalach', 'oldpeak']\n",
    "\n",
    "def encode_ohe(data: pd.DataFrame, columns:list):\n",
    "    ohe = OneHotEncoder(sparse_output=False, handle_unknown='ignore')\n",
    "    ohe.fit(data[columns])\n",
    "\n",
    "    encoded_data = ohe.transform(data[columns])\n",
    "    encoded_df = pd.DataFrame(encoded_data, columns=ohe.get_feature_names_out(columns))\n",
    "\n",
    "    result_data = data.drop(columns, axis=1)\n",
    "    result_data = pd.concat([result_data, encoded_df], axis=1)\n",
    "    \n",
    "    return result_data\n",
    "\n",
    "def standartize(data:pd.DataFrame, columns:list):\n",
    "    scaler = StandardScaler()\n",
    "    \n",
    "\n",
    "encoded_data = encode_ohe(data, ohe_columns)\n",
    "print(f\"{data.columns}\\n{encoded_data.columns}\")"
   ]
  },
  {
   "cell_type": "code",
   "execution_count": 15,
   "id": "c78ec344",
   "metadata": {},
   "outputs": [
    {
     "name": "stdout",
     "output_type": "stream",
     "text": [
      "[0 1]\n"
     ]
    }
   ],
   "source": [
    "data['target'] = data['target'].apply(lambda x: 1 if x > 0 else 0)\n",
    "print(data['target'].unique())"
   ]
  },
  {
   "cell_type": "code",
   "execution_count": 14,
   "id": "43ec860b",
   "metadata": {},
   "outputs": [
    {
     "name": "stdout",
     "output_type": "stream",
     "text": [
      "(297, 14)\n",
      "<class 'pandas.core.frame.DataFrame'>\n",
      "RangeIndex: 297 entries, 0 to 296\n",
      "Data columns (total 14 columns):\n",
      " #   Column    Non-Null Count  Dtype  \n",
      "---  ------    --------------  -----  \n",
      " 0   age       297 non-null    float64\n",
      " 1   sex       297 non-null    float64\n",
      " 2   cp        297 non-null    float64\n",
      " 3   trestbps  297 non-null    float64\n",
      " 4   chol      297 non-null    float64\n",
      " 5   fbs       297 non-null    float64\n",
      " 6   restecg   297 non-null    float64\n",
      " 7   thalach   297 non-null    float64\n",
      " 8   exang     297 non-null    float64\n",
      " 9   oldpeak   297 non-null    float64\n",
      " 10  slope     297 non-null    float64\n",
      " 11  ca        297 non-null    float64\n",
      " 12  thal      297 non-null    float64\n",
      " 13  target    297 non-null    int64  \n",
      "dtypes: float64(13), int64(1)\n",
      "memory usage: 32.6 KB\n",
      "None\n"
     ]
    }
   ],
   "source": [
    "data_no_ca = data.dropna(ignore_index=True)\n",
    "\n",
    "print(data_no_ca.shape)\n",
    "print(data_no_ca.info())"
   ]
  },
  {
   "cell_type": "code",
   "execution_count": null,
   "id": "0d1350b1",
   "metadata": {},
   "outputs": [],
   "source": []
  }
 ],
 "metadata": {
  "kernelspec": {
   "display_name": "ML_Ops",
   "language": "python",
   "name": "python3"
  },
  "language_info": {
   "codemirror_mode": {
    "name": "ipython",
    "version": 3
   },
   "file_extension": ".py",
   "mimetype": "text/x-python",
   "name": "python",
   "nbconvert_exporter": "python",
   "pygments_lexer": "ipython3",
   "version": "3.12.9"
  }
 },
 "nbformat": 4,
 "nbformat_minor": 5
}
