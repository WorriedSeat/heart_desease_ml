{
 "cells": [
  {
   "cell_type": "code",
   "execution_count": 1,
   "id": "a9e3a221",
   "metadata": {},
   "outputs": [],
   "source": [
    "import pandas as pd\n",
    "import numpy as np\n",
    "from sklearn.preprocessing import OneHotEncoder, StandardScaler"
   ]
  },
  {
   "cell_type": "code",
   "execution_count": 18,
   "id": "f11bd6ee",
   "metadata": {},
   "outputs": [],
   "source": [
    "train_data = pd.read_csv('../../data/processed/cleveland_train.csv')\n",
    "test_data = pd.read_csv('../../data/processed/cleveland_test.csv')"
   ]
  },
  {
   "cell_type": "code",
   "execution_count": 19,
   "id": "cf4512c0",
   "metadata": {},
   "outputs": [
    {
     "name": "stdout",
     "output_type": "stream",
     "text": [
      "(237, 14)\n",
      "(60, 14)\n"
     ]
    }
   ],
   "source": [
    "print(train_data.shape)\n",
    "print(test_data.shape)"
   ]
  },
  {
   "cell_type": "code",
   "execution_count": 23,
   "id": "d2961113",
   "metadata": {},
   "outputs": [],
   "source": [
    "ohe_columns = ['cp', 'restecg', 'slope', 'thal']\n",
    "numeric_columns = ['age', 'trestbps', 'chol', 'thalach', 'oldpeak']\n",
    "\n",
    "def encode_ohe(data: pd.DataFrame, columns:list):\n",
    "    ohe = OneHotEncoder(sparse_output=False, handle_unknown='ignore')    \n",
    "    ohe.fit(data[columns])\n",
    "\n",
    "    encoded_data = ohe.transform(data[columns])\n",
    "    encoded_df = pd.DataFrame(encoded_data, columns=ohe.get_feature_names_out(columns))\n",
    "\n",
    "    result_data = data.drop(columns, axis=1)\n",
    "    result_data = pd.concat([result_data, encoded_df], axis=1)\n",
    "    \n",
    "    return result_data\n",
    "\n",
    "def scale_numeric(data: pd.DataFrame, columns:list):\n",
    "    \n",
    "    scaler = StandardScaler()\n",
    "    scaler.fit(data[columns])\n",
    "\n",
    "    scaled_data = scaler.transform(data[columns])\n",
    "    scaled_df = pd.DataFrame(scaled_data, columns=columns)\n",
    "\n",
    "    result_data = data.drop(columns, axis=1)\n",
    "    result_data = pd.concat([result_data, scaled_df], axis=1)\n",
    "    \n",
    "    return result_data"
   ]
  },
  {
   "cell_type": "code",
   "execution_count": 25,
   "id": "9db1ab12",
   "metadata": {},
   "outputs": [
    {
     "name": "stdout",
     "output_type": "stream",
     "text": [
      "Index(['sex', 'fbs', 'exang', 'ca', 'target', 'cp_1.0', 'cp_2.0', 'cp_3.0',\n",
      "       'cp_4.0', 'restecg_0.0', 'restecg_1.0', 'restecg_2.0', 'slope_1.0',\n",
      "       'slope_2.0', 'slope_3.0', 'thal_3.0', 'thal_6.0', 'thal_7.0', 'age',\n",
      "       'trestbps', 'chol', 'thalach', 'oldpeak'],\n",
      "      dtype='object')\n",
      "Index(['sex', 'fbs', 'exang', 'ca', 'target', 'cp_1.0', 'cp_2.0', 'cp_3.0',\n",
      "       'cp_4.0', 'restecg_0.0', 'restecg_1.0', 'restecg_2.0', 'slope_1.0',\n",
      "       'slope_2.0', 'slope_3.0', 'thal_3.0', 'thal_6.0', 'thal_7.0', 'age',\n",
      "       'trestbps', 'chol', 'thalach', 'oldpeak'],\n",
      "      dtype='object')\n"
     ]
    }
   ],
   "source": [
    "train_data_encoded = encode_ohe(train_data, ohe_columns)\n",
    "train_data_preprocessed = scale_numeric(train_data_encoded, numeric_columns)\n",
    "\n",
    "test_data_encoded = encode_ohe(test_data, ohe_columns)\n",
    "test_data_preprocessed = scale_numeric(test_data_encoded, numeric_columns)\n",
    "\n",
    "print(test_data_preprocessed.columns)\n",
    "print(train_data_preprocessed.columns)"
   ]
  },
  {
   "cell_type": "code",
   "execution_count": 31,
   "id": "047534a8",
   "metadata": {},
   "outputs": [
    {
     "name": "stdout",
     "output_type": "stream",
     "text": [
      "   sex  fbs  exang   ca  target  cp_1.0  cp_2.0  cp_3.0  cp_4.0  restecg_0.0  \\\n",
      "0  0.0  0.0    0.0  0.0       0     0.0     0.0     1.0     0.0          1.0   \n",
      "1  0.0  0.0    0.0  0.0       0     1.0     0.0     0.0     0.0          1.0   \n",
      "2  0.0  0.0    0.0  2.0       0     1.0     0.0     0.0     0.0          1.0   \n",
      "3  1.0  0.0    0.0  0.0       1     0.0     1.0     0.0     0.0          0.0   \n",
      "4  1.0  0.0    0.0  0.0       0     0.0     0.0     1.0     0.0          1.0   \n",
      "\n",
      "   ...  slope_2.0  slope_3.0  thal_3.0  thal_6.0  thal_7.0       age  \\\n",
      "0  ...        1.0        0.0       1.0       0.0       0.0 -1.741679   \n",
      "1  ...        0.0        0.0       1.0       0.0       0.0  0.601114   \n",
      "2  ...        0.0        0.0       1.0       0.0       0.0  1.605169   \n",
      "3  ...        1.0        0.0       1.0       0.0       0.0  0.377991   \n",
      "4  ...        0.0        0.0       1.0       0.0       0.0 -0.849186   \n",
      "\n",
      "   trestbps      chol   thalach   oldpeak  \n",
      "0  0.319284 -0.544213  0.151798 -0.915041  \n",
      "1  0.985981 -0.161771  0.971399 -0.121634  \n",
      "2  0.430400 -0.180893  0.108661  0.671774  \n",
      "3 -0.680763  0.679601  0.496893  0.671774  \n",
      "4 -0.125182  0.086816  1.316494 -0.915041  \n",
      "\n",
      "[5 rows x 23 columns]\n",
      "   sex  fbs  exang   ca  cp_1.0  cp_2.0  cp_3.0  cp_4.0  restecg_0.0  \\\n",
      "0  0.0  0.0    0.0  0.0     0.0     0.0     1.0     0.0          1.0   \n",
      "1  0.0  0.0    0.0  0.0     1.0     0.0     0.0     0.0          1.0   \n",
      "2  0.0  0.0    0.0  2.0     1.0     0.0     0.0     0.0          1.0   \n",
      "3  1.0  0.0    0.0  0.0     0.0     1.0     0.0     0.0          0.0   \n",
      "4  1.0  0.0    0.0  0.0     0.0     0.0     1.0     0.0          1.0   \n",
      "\n",
      "   restecg_1.0  ...  slope_2.0  slope_3.0  thal_3.0  thal_6.0  thal_7.0  \\\n",
      "0          0.0  ...        1.0        0.0       1.0       0.0       0.0   \n",
      "1          0.0  ...        0.0        0.0       1.0       0.0       0.0   \n",
      "2          0.0  ...        0.0        0.0       1.0       0.0       0.0   \n",
      "3          0.0  ...        1.0        0.0       1.0       0.0       0.0   \n",
      "4          0.0  ...        0.0        0.0       1.0       0.0       0.0   \n",
      "\n",
      "        age  trestbps      chol   thalach   oldpeak  \n",
      "0 -1.741679  0.319284 -0.544213  0.151798 -0.915041  \n",
      "1  0.601114  0.985981 -0.161771  0.971399 -0.121634  \n",
      "2  1.605169  0.430400 -0.180893  0.108661  0.671774  \n",
      "3  0.377991 -0.680763  0.679601  0.496893  0.671774  \n",
      "4 -0.849186 -0.125182  0.086816  1.316494 -0.915041  \n",
      "\n",
      "[5 rows x 22 columns]\n",
      "0    0\n",
      "1    0\n",
      "2    0\n",
      "3    1\n",
      "4    0\n",
      "Name: target, dtype: int64\n"
     ]
    }
   ],
   "source": [
    "x_train = train_data_preprocessed.drop('target', axis=1)\n",
    "y_train = train_data_preprocessed['target']\n",
    "\n",
    "x_test = test_data_preprocessed.drop('target', axis=1)\n",
    "y_test = test_data_preprocessed['target']\n",
    "\n",
    "# print(f\"x_train:{x_train.shape}\\ny_train{y_train.shape}\\nx_test:{x_test.shape}\\ny_text{y_test.shape}\")\n",
    "\n",
    "print(train_data_preprocessed.head())\n",
    "\n",
    "print(x_train.head())\n",
    "print(y_train.head())"
   ]
  },
  {
   "cell_type": "code",
   "execution_count": null,
   "id": "04cc6632",
   "metadata": {},
   "outputs": [],
   "source": []
  }
 ],
 "metadata": {
  "kernelspec": {
   "display_name": "ML_Ops",
   "language": "python",
   "name": "python3"
  },
  "language_info": {
   "codemirror_mode": {
    "name": "ipython",
    "version": 3
   },
   "file_extension": ".py",
   "mimetype": "text/x-python",
   "name": "python",
   "nbconvert_exporter": "python",
   "pygments_lexer": "ipython3",
   "version": "3.12.9"
  }
 },
 "nbformat": 4,
 "nbformat_minor": 5
}
